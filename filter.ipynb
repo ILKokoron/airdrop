{
 "cells": [
  {
   "cell_type": "code",
   "execution_count": 74,
   "metadata": {},
   "outputs": [],
   "source": [
    "import pandas as pd\n",
    "import re"
   ]
  },
  {
   "cell_type": "markdown",
   "metadata": {},
   "source": [
    "## Get Submission Data (csv file not provided due to data privacy)"
   ]
  },
  {
   "cell_type": "code",
   "execution_count": 75,
   "metadata": {},
   "outputs": [],
   "source": [
    "data_1 = pd.read_csv(\"airdrop_1.csv\")\n",
    "data_2 = pd.read_csv(\"airdrop_2.csv\")"
   ]
  },
  {
   "cell_type": "markdown",
   "metadata": {},
   "source": [
    "## Set Functions (set(invalid_index_list) is used to remove false submissions)"
   ]
  },
  {
   "cell_type": "code",
   "execution_count": 76,
   "metadata": {},
   "outputs": [],
   "source": [
    "# Email Validation Check\n",
    "def isvalidEmail(email: str) -> bool:\n",
    "    pattern = \"^\\S+@\\S+\\.\\S+$\"\n",
    "    objs = re.search(pattern, email)\n",
    "    try:\n",
    "        if objs.string == email:\n",
    "            return True\n",
    "    except:\n",
    "        return False"
   ]
  },
  {
   "cell_type": "code",
   "execution_count": 77,
   "metadata": {},
   "outputs": [],
   "source": [
    "# Email Validation Check\n",
    "def invalidEmail(invalid_index_list: list, email_list: list) -> list:\n",
    "    invalid_index = []\n",
    "    for email in email_list:\n",
    "        validity = isvalidEmail(email)\n",
    "    if validity == False:\n",
    "        index = email_list.index(email)\n",
    "        invalid_index.append(index)\n",
    "\n",
    "    for i in invalid_index:\n",
    "        invalid_index_list.append(i)\n",
    "    return invalid_index_list"
   ]
  },
  {
   "cell_type": "code",
   "execution_count": 78,
   "metadata": {},
   "outputs": [],
   "source": [
    "# Overlapping Email Check\n",
    "def overlapEmail(invalid_index_list: list, email_list: list) -> list:\n",
    "    invalid_email = []\n",
    "    for email in email_list:\n",
    "        cnt = email_list.count(email)\n",
    "        if cnt != 1:\n",
    "            invalid_email.append(email)\n",
    "\n",
    "    for email in email_list:\n",
    "        if email in invalid_email:\n",
    "            invalid_index_list.append(email_list.index(email))\n",
    "    return invalid_index_list"
   ]
  },
  {
   "cell_type": "code",
   "execution_count": 79,
   "metadata": {},
   "outputs": [],
   "source": [
    "# Check discord username in server\n",
    "def discordInServer(invalid_index_list: list, discord_list: list) -> list:\n",
    "    discord_member = pd.read_csv(\"discord_mem.csv\")[\"User\"].tolist() # \"discord_mem.csv\" provided by Memberlist bot\n",
    "    invalid_discord = []\n",
    "    for mem in discord_list:\n",
    "        if mem not in discord_member:\n",
    "            invalid_discord.append(discord_list.index(mem))\n",
    "    for i in invalid_discord:\n",
    "        invalid_index_list.append(i)\n",
    "    return invalid_index_list"
   ]
  },
  {
   "cell_type": "code",
   "execution_count": 80,
   "metadata": {},
   "outputs": [],
   "source": [
    "# Overlapping discord check\n",
    "def overlapDiscord(invalid_index_list: list, discord_list: list) -> list:\n",
    "    invalid_discord = []\n",
    "    for mem in discord_list:\n",
    "        cnt = discord_list.count(mem)\n",
    "        if cnt !=1:\n",
    "            invalid_discord.append(mem)\n",
    "\n",
    "    for mem in discord_list:\n",
    "        if mem in invalid_discord:\n",
    "            invalid_index_list.append(discord_list.index(mem))\n",
    "    return invalid_index_list"
   ]
  },
  {
   "cell_type": "code",
   "execution_count": 81,
   "metadata": {},
   "outputs": [],
   "source": [
    "# Overlapping twitter check\n",
    "def overlapTwitter(invalid_index_list: list, discord_list: list) -> list:\n",
    "    invalid_twitter = []\n",
    "    for i in twitter_list:\n",
    "        cnt = twitter_list.count(i)\n",
    "        if cnt != 1:\n",
    "            invalid_twitter.append(i)\n",
    "\n",
    "    for i in twitter_list:\n",
    "        if i in invalid_twitter:\n",
    "            invalid_index_list.append(twitter_list.index(i))\n",
    "    return invalid_index_list"
   ]
  }
 ],
 "metadata": {
  "kernelspec": {
   "display_name": "Python 3.8.8 64-bit ('anaconda3': virtualenv)",
   "name": "python388jvsc74a57bd0dca0ade3e726a953b501b15e8e990130d2b7799f14cfd9f4271676035ebe5511"
  },
  "language_info": {
   "name": "python",
   "version": ""
  },
  "metadata": {
   "interpreter": {
    "hash": "dca0ade3e726a953b501b15e8e990130d2b7799f14cfd9f4271676035ebe5511"
   }
  },
  "orig_nbformat": 2
 },
 "nbformat": 4,
 "nbformat_minor": 2
}
